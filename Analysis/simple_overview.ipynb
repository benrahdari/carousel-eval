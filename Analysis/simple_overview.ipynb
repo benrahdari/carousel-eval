{
 "cells": [
  {
   "cell_type": "code",
   "execution_count": 1,
   "id": "766c625b-4f53-4e45-b992-7130762302e5",
   "metadata": {
    "tags": []
   },
   "outputs": [],
   "source": [
    "import zipfile\n",
    "import os\n",
    "import numpy as np\n",
    "import json"
   ]
  },
  {
   "cell_type": "code",
   "execution_count": 2,
   "id": "44f4508d-4278-43ff-a7ea-e39293dae125",
   "metadata": {
    "tags": []
   },
   "outputs": [],
   "source": [
    "import warnings\n",
    "# Suppress specific warnings\n",
    "warnings.filterwarnings('ignore')"
   ]
  },
  {
   "cell_type": "code",
   "execution_count": 3,
   "id": "5fb5773a-e0a1-421c-a42b-a37215530ba7",
   "metadata": {
    "tags": []
   },
   "outputs": [
    {
     "data": {
      "text/plain": [
       "['.DS_Store',\n",
       " '3M9IY_jv7u.json',\n",
       " '3M9IY_iej2.json',\n",
       " '3M9IY_tmod.json',\n",
       " '3M9IY_ehw8.json',\n",
       " '3M9IY_dfy7.json',\n",
       " '3M9IY_4z92.json',\n",
       " '3M9IY_u7bd.json',\n",
       " '3M9IY_wyvg.json',\n",
       " '3M9IY_87o0.json',\n",
       " '3M9IY_cf2e.json']"
      ]
     },
     "execution_count": 3,
     "metadata": {},
     "output_type": "execute_result"
    }
   ],
   "source": [
    "# File path for the uploaded zip file\n",
    "zip_file_path = 'test_1.zip'\n",
    "         \n",
    "# Extracting the contents of the zip file\n",
    "with zipfile.ZipFile(zip_file_path, 'r') as zip_ref:\n",
    "    # Extracting to a directory\n",
    "    extract_path = './extracted_logs'\n",
    "    zip_ref.extractall(extract_path)\n",
    "\n",
    "# Listing the contents of the extracted directory\n",
    "extracted_files = os.listdir(extract_path)\n",
    "extracted_files"
   ]
  },
  {
   "cell_type": "code",
   "execution_count": 4,
   "id": "22959c9f-d32f-428f-9ad0-5ad82ced1a9e",
   "metadata": {
    "tags": []
   },
   "outputs": [],
   "source": [
    "def mouse_movment_details(json_file_path):  \n",
    "    with open(json_file_path, 'r') as file:\n",
    "        json_data = json.load(file)\n",
    "    \n",
    "    event_data = json_data['eventData']\n",
    "    mousemove_events = [event for event in event_data if event['eventType'] == 'mousemove']\n",
    "    # Calculating distances and time differences between consecutive mousemove events\n",
    "    distances = []\n",
    "    time_differences = []\n",
    "    for i in range(1, len(mousemove_events)):\n",
    "        # Previous and current event\n",
    "        prev_event = mousemove_events[i - 1]\n",
    "        curr_event = mousemove_events[i]\n",
    "        # Calculating distance using Pythagorean theorem\n",
    "        distance = np.sqrt((curr_event['details']['x'] - prev_event['details']['x'])**2 + \n",
    "                           (curr_event['details']['y'] - prev_event['details']['y'])**2)\n",
    "        distances.append(distance)\n",
    "        # Calculating time difference in seconds\n",
    "        time_diff = np.datetime64(curr_event['timestamp']) - np.datetime64(prev_event['timestamp'])\n",
    "        time_diff_seconds = time_diff.item().total_seconds()\n",
    "        time_differences.append(time_diff_seconds)\n",
    "    # Calculating average distance and velocity\n",
    "    total_distance = np.sum(distances) if distances else 0\n",
    "    average_velocity = np.mean([d/t if t != 0 else 0 for d, t in zip(distances, time_differences)]) if time_differences else 0\n",
    "    return total_distance, average_velocity"
   ]
  },
  {
   "cell_type": "code",
   "execution_count": 5,
   "id": "a01fe4e3-91da-4dd6-859b-acbab8310c51",
   "metadata": {
    "tags": []
   },
   "outputs": [],
   "source": [
    "def scroll_movement_details(json_file_path):\n",
    "    \"\"\"\n",
    "    Analyzes scroll events from a JSON file containing event data.\n",
    "\n",
    "    Args:\n",
    "    json_file_path (str): The file path of the JSON file containing the event data.\n",
    "\n",
    "    Returns:\n",
    "    tuple: A tuple containing the total scroll distance and average scroll velocity.\n",
    "    \"\"\"\n",
    "    # Load JSON data\n",
    "    with open(json_file_path, 'r') as file:\n",
    "        json_data = json.load(file)\n",
    "\n",
    "    event_data = json_data['eventData']\n",
    "\n",
    "    # Filtering only scroll events\n",
    "    scroll_events = [event for event in event_data if event['eventType'] == 'scroll']\n",
    "\n",
    "    # Calculating scroll distances and time differences between consecutive scroll events\n",
    "    scroll_distances = []\n",
    "    scroll_time_differences = []\n",
    "\n",
    "    for i in range(1, len(scroll_events)):\n",
    "        # Previous and current event\n",
    "        prev_event = scroll_events[i - 1]\n",
    "        curr_event = scroll_events[i]\n",
    "\n",
    "        # Calculating scroll distance (difference in scroll position)\n",
    "        scroll_distance = abs(curr_event['details']['scrollTop'] - prev_event['details']['scrollTop'])\n",
    "        scroll_distances.append(scroll_distance)\n",
    "\n",
    "        # Calculating time difference in seconds\n",
    "        time_diff = np.datetime64(curr_event['timestamp']) - np.datetime64(prev_event['timestamp'])\n",
    "        time_diff_seconds = time_diff.item().total_seconds()\n",
    "        scroll_time_differences.append(time_diff_seconds)\n",
    "\n",
    "    # Calculating total scroll distance and average scroll velocity\n",
    "    total_scroll_distance = np.sum(scroll_distances) if scroll_distances else 0\n",
    "    average_scroll_velocity = np.mean([d/t if t != 0 else 0 for d, t in zip(scroll_distances, scroll_time_differences)]) if scroll_time_differences else 0\n",
    "\n",
    "    return total_scroll_distance, average_scroll_velocity"
   ]
  },
  {
   "cell_type": "code",
   "execution_count": 6,
   "id": "a966715e-cbbb-4c9a-94a0-5743b18f6295",
   "metadata": {
    "tags": []
   },
   "outputs": [
    {
     "name": "stdout",
     "output_type": "stream",
     "text": [
      "[{'file': '3M9IY_4z92.json', 'experiment_duration': 33.381, 'task_duration': 33.381, 'mouse_total_distance': 6941.355153043716, 'mouse_average_velocity': 279.5992024837847, 'scroll_total_distance': 3305.45452606678, 'scroll_average_velocity': 923.047569042404}, {'file': '3M9IY_87o0.json', 'experiment_duration': 40.874, 'task_duration': 40.874, 'mouse_total_distance': 1795.4756731905586, 'mouse_average_velocity': 186.379142083406, 'scroll_total_distance': 2463.636365056038, 'scroll_average_velocity': 994.5980935789177}, {'file': '3M9IY_cf2e.json', 'experiment_duration': 37.398, 'task_duration': 37.398, 'mouse_total_distance': 2598.4674754014663, 'mouse_average_velocity': 174.54094974340768, 'scroll_total_distance': 400.90908539295197, 'scroll_average_velocity': 970.1164297352381}, {'file': '3M9IY_dfy7.json', 'experiment_duration': 13.921, 'task_duration': 13.921, 'mouse_total_distance': 780.1164124036832, 'mouse_average_velocity': 131.05186548979748, 'scroll_total_distance': 522.7272616624832, 'scroll_average_velocity': 1016.5938958280352}, {'file': '3M9IY_ehw8.json', 'experiment_duration': 16.658, 'task_duration': 16.658, 'mouse_total_distance': 2000.807671156894, 'mouse_average_velocity': 179.29442187061065, 'scroll_total_distance': 589.0908786058426, 'scroll_average_velocity': 897.0254913297497}, {'file': '3M9IY_iej2.json', 'experiment_duration': 47.292, 'task_duration': 47.292, 'mouse_total_distance': 1216.583165973706, 'mouse_average_velocity': 34.66387996404584, 'scroll_total_distance': 2519.0909091234207, 'scroll_average_velocity': 1080.6425214359926}, {'file': '3M9IY_jv7u.json', 'experiment_duration': 14.933, 'task_duration': 14.933, 'mouse_total_distance': 2958.5531394045083, 'mouse_average_velocity': 293.33922792455155, 'scroll_total_distance': 559.0909091234207, 'scroll_average_velocity': 823.7406002551727}, {'file': '3M9IY_tmod.json', 'experiment_duration': 14.416, 'task_duration': 14.416, 'mouse_total_distance': 2009.7694139682899, 'mouse_average_velocity': 336.64266153762355, 'scroll_total_distance': 426.36364471912384, 'scroll_average_velocity': 570.1370616064104}, {'file': '3M9IY_u7bd.json', 'experiment_duration': 24.032, 'task_duration': 24.032, 'mouse_total_distance': 1891.1467026829657, 'mouse_average_velocity': 118.98503575732562, 'scroll_total_distance': 1431.8181735277176, 'scroll_average_velocity': 1103.6595456945724}, {'file': '3M9IY_wyvg.json', 'experiment_duration': 22.391, 'task_duration': 22.391, 'mouse_total_distance': 2003.5950719785458, 'mouse_average_velocity': 113.52186929689644, 'scroll_total_distance': 2114.5454379320145, 'scroll_average_velocity': 1653.5561565455728}]\n"
     ]
    }
   ],
   "source": [
    "import os\n",
    "import json\n",
    "import numpy as np\n",
    "\n",
    "# Include your mouse_movment_details and scroll_movement_details functions here\n",
    "\n",
    "def process_all_json_files(directory_path):\n",
    "    summary_data = []\n",
    "    \n",
    "    # Filter out non-JSON files and sort to ensure a consistent order\n",
    "    json_files = sorted([file for file in os.listdir(directory_path) if file.endswith('.json')])\n",
    "\n",
    "    # Process each JSON file\n",
    "    for json_file in json_files:\n",
    "        file_path = os.path.join(directory_path, json_file)\n",
    "        try:\n",
    "            with open(file_path, 'r') as file:\n",
    "                json_data = json.load(file)\n",
    "\n",
    "            # Extract global start, session start, and end times\n",
    "            global_start_time = np.datetime64(json_data['global_start_time'])\n",
    "            session_start_time = np.datetime64(json_data['session_start_time'])\n",
    "            end_time = np.datetime64(json_data['end_time'])\n",
    "\n",
    "            # Calculate experiment and task durations\n",
    "            experiment_duration = (end_time - global_start_time).item().total_seconds()\n",
    "            task_duration = (end_time - session_start_time).item().total_seconds()\n",
    "\n",
    "            # Calculate mouse movement and scroll details\n",
    "            mouse_distance, mouse_velocity = mouse_movment_details(file_path)\n",
    "            scroll_distance, scroll_velocity = scroll_movement_details(file_path)\n",
    "\n",
    "            # Append the data to the summary list\n",
    "            summary_data.append({\n",
    "                'file': json_file,\n",
    "                'experiment_duration': experiment_duration,\n",
    "                'task_duration': task_duration,\n",
    "                'mouse_total_distance': mouse_distance,\n",
    "                'mouse_average_velocity': mouse_velocity,\n",
    "                'scroll_total_distance': scroll_distance,\n",
    "                'scroll_average_velocity': scroll_velocity\n",
    "            })\n",
    "        except Exception as e:\n",
    "            print(f\"Error processing {json_file}: {e}\")\n",
    "\n",
    "    return summary_data\n",
    "\n",
    "# Directory containing the extracted JSON files\n",
    "directory_path = './extracted_logs'\n",
    "\n",
    "# Process the files and get the summary\n",
    "summary_data = process_all_json_files(directory_path)\n",
    "print(summary_data)"
   ]
  },
  {
   "cell_type": "code",
   "execution_count": 7,
   "id": "5466e783-9603-480c-81d8-cfaf754f1960",
   "metadata": {
    "tags": []
   },
   "outputs": [
    {
     "name": "stdout",
     "output_type": "stream",
     "text": [
      "Total Experiment Time (s): 265.30\n",
      "Average Experiment Time (s): 26.53\n",
      "Total Task Time (s): 265.30\n",
      "Average Task Time (s): 26.53\n",
      "Total Mouse Movement Distance (units): 24195.87\n",
      "Average Mouse Movement Distance (units): 2419.59\n",
      "Average Mouse Speed (units/s): 184.80\n",
      "Average Scroll Speed (units/s): 1003.31\n"
     ]
    }
   ],
   "source": [
    "import numpy as np\n",
    "\n",
    "# Assuming 'summary_data' is the list of dictionaries returned by the 'process_all_json_files' function\n",
    "\n",
    "# Initialize variables for aggregation\n",
    "total_experiment_time = 0\n",
    "total_task_time = 0\n",
    "total_mouse_distance = 0\n",
    "total_scroll_distance = 0\n",
    "total_mouse_speed = 0\n",
    "total_scroll_speed = 0\n",
    "\n",
    "# Loop through each summary and aggregate the data\n",
    "for data in summary_data:\n",
    "    total_experiment_time += data['experiment_duration']\n",
    "    total_task_time += data['task_duration']\n",
    "    total_mouse_distance += data['mouse_total_distance']\n",
    "    total_scroll_distance += data['scroll_total_distance']\n",
    "    total_mouse_speed += data['mouse_average_velocity']\n",
    "    total_scroll_speed += data['scroll_average_velocity']\n",
    "\n",
    "# Calculate averages\n",
    "average_experiment_time = total_experiment_time / len(summary_data)\n",
    "average_task_time = total_task_time / len(summary_data)\n",
    "average_mouse_distance = total_mouse_distance / len(summary_data)\n",
    "average_scroll_distance = total_scroll_distance / len(summary_data)\n",
    "average_mouse_speed = total_mouse_speed / len(summary_data)\n",
    "average_scroll_speed = total_scroll_speed / len(summary_data)\n",
    "\n",
    "# Create the table of statistics\n",
    "stats_table = {\n",
    "    'Total Experiment Time (s)': total_experiment_time,\n",
    "    'Average Experiment Time (s)': average_experiment_time,\n",
    "    'Total Task Time (s)': total_task_time,\n",
    "    'Average Task Time (s)': average_task_time,\n",
    "    'Total Mouse Movement Distance (units)': total_mouse_distance,\n",
    "    'Average Mouse Movement Distance (units)': average_mouse_distance,\n",
    "    'Average Mouse Speed (units/s)': average_mouse_speed,\n",
    "    'Average Scroll Speed (units/s)': average_scroll_speed\n",
    "}\n",
    "\n",
    "# Print the table or convert it to a DataFrame for nicer formatting\n",
    "# Here's how you could print it directly\n",
    "for key, value in stats_table.items():\n",
    "    print(f\"{key}: {value:.2f}\")\n"
   ]
  },
  {
   "cell_type": "code",
   "execution_count": 8,
   "id": "67778430-6d9a-4238-aa4a-217cf4dbf574",
   "metadata": {
    "tags": []
   },
   "outputs": [
    {
     "data": {
      "text/plain": [
       "['hit_id',\n",
       " 'user_id',\n",
       " 'global_start_time',\n",
       " 'session_start_time',\n",
       " 'end_time',\n",
       " 'code',\n",
       " 'logging_type',\n",
       " 'hit_setting',\n",
       " 'finish_status',\n",
       " 'eventData']"
      ]
     },
     "execution_count": 8,
     "metadata": {},
     "output_type": "execute_result"
    }
   ],
   "source": [
    "#Sample json file\n",
    "json_file_path = \"extracted_logs/3M9IY_87o0.json\"\n",
    "\n",
    "with open(json_file_path, 'r') as file:\n",
    "    json_data = json.load(file)\n",
    "\n",
    "# Displaying the structure and some contents of the JSON file for an overview\n",
    "sample_json_content = {key: json_data[key] for key in list(json_data.keys())[:]}  # showing a snippet for overview\n",
    "structure_overview_keys = list(json_data.keys())\n",
    "\n",
    "structure_overview_keys"
   ]
  },
  {
   "cell_type": "code",
   "execution_count": 9,
   "id": "62e7e442-cfb4-4e68-9a36-b1ff91051a2e",
   "metadata": {
    "tags": []
   },
   "outputs": [
    {
     "data": {
      "text/plain": [
       "(1795.4756731905586, 186.379142083406)"
      ]
     },
     "execution_count": 9,
     "metadata": {},
     "output_type": "execute_result"
    }
   ],
   "source": [
    "mouse_movment_details(json_file_path)"
   ]
  },
  {
   "cell_type": "code",
   "execution_count": 10,
   "id": "737518de-0a77-4f79-8d6a-57d870e9678c",
   "metadata": {
    "tags": []
   },
   "outputs": [
    {
     "data": {
      "text/plain": [
       "(2463.636365056038, 994.5980935789177)"
      ]
     },
     "execution_count": 10,
     "metadata": {},
     "output_type": "execute_result"
    }
   ],
   "source": [
    "scroll_movement_details(json_file_path)"
   ]
  },
  {
   "cell_type": "code",
   "execution_count": 11,
   "id": "2e8bea8d-57fc-43fe-bfdf-cf717b9cadf1",
   "metadata": {
    "tags": []
   },
   "outputs": [],
   "source": [
    "def process_user_logs(extract_path):\n",
    "    \"\"\"\n",
    "    Processes all user log JSON files in the given directory and compiles the results.\n",
    "\n",
    "    Args:\n",
    "    extract_path (str): The directory path containing the extracted JSON files.\n",
    "\n",
    "    Returns:\n",
    "    dict: A dictionary containing the compiled results for all users.\n",
    "    \"\"\"\n",
    "\n",
    "    results = {}\n",
    "\n",
    "    for file in os.listdir(extract_path):\n",
    "        if not file.endswith('.json'):\n",
    "            continue  # Skip non-JSON files\n",
    "\n",
    "        file_path = os.path.join(extract_path, file)\n",
    "\n",
    "        try:\n",
    "            with open(file_path, 'r', encoding='utf-8') as json_file:\n",
    "                data = json.load(json_file)\n",
    "\n",
    "            user_data = {key: data.get(key, None) for key in [\n",
    "                'hit_id', 'user_id', 'global_start_time', 'session_start_time',\n",
    "                'end_time', 'code', 'logging_type', 'hit_setting', 'finish_status'\n",
    "            ]}\n",
    "\n",
    "            # Add mouse movement details\n",
    "            total_mouse_distance, avg_mouse_velocity = mouse_movment_details(file_path)\n",
    "            user_data['total_mouse_distance'] = total_mouse_distance\n",
    "            user_data['avg_mouse_velocity'] = avg_mouse_velocity\n",
    "\n",
    "            # Add scroll movement details\n",
    "            total_scroll_distance, avg_scroll_velocity = scroll_movement_details(file_path)\n",
    "            user_data['total_scroll_distance'] = total_scroll_distance\n",
    "            user_data['avg_scroll_velocity'] = avg_scroll_velocity\n",
    "\n",
    "            results[file] = user_data\n",
    "\n",
    "        except Exception as e:\n",
    "            results[file] = {'error': str(e)}\n",
    "\n",
    "    return results"
   ]
  },
  {
   "cell_type": "code",
   "execution_count": 12,
   "id": "4577411c-413f-4ff9-9356-bf11885e5ca8",
   "metadata": {
    "tags": []
   },
   "outputs": [],
   "source": [
    "info = process_user_logs(extract_path)"
   ]
  },
  {
   "cell_type": "code",
   "execution_count": 13,
   "id": "7365e7d5-05a9-4b24-b429-0a32ae43963e",
   "metadata": {
    "tags": []
   },
   "outputs": [],
   "source": [
    "# Attempting to load the sample JSON file again\n",
    "file_path = 'sample.json'\n",
    "\n",
    "try:\n",
    "    with open(file_path, 'r') as file:\n",
    "        sample_json_data = json.load(file)\n",
    "    sample_keys = list(sample_json_data.keys())\n",
    "    sample_snippet = {key: sample_json_data[key] for key in sample_keys[:5]}\n",
    "except Exception as e:\n",
    "    sample_keys, sample_snippet, str(e)"
   ]
  },
  {
   "cell_type": "code",
   "execution_count": 14,
   "id": "4fa21a6c-03e1-4f49-bf35-5288f1053dd9",
   "metadata": {
    "tags": []
   },
   "outputs": [
    {
     "data": {
      "text/plain": [
       "['3M9IY_jv7u.json',\n",
       " '3M9IY_iej2.json',\n",
       " '3M9IY_tmod.json',\n",
       " '3M9IY_ehw8.json',\n",
       " '3M9IY_dfy7.json',\n",
       " '3M9IY_4z92.json',\n",
       " '3M9IY_u7bd.json',\n",
       " '3M9IY_wyvg.json',\n",
       " '3M9IY_87o0.json',\n",
       " '3M9IY_cf2e.json']"
      ]
     },
     "execution_count": 14,
     "metadata": {},
     "output_type": "execute_result"
    }
   ],
   "source": [
    "sample_keys"
   ]
  },
  {
   "cell_type": "code",
   "execution_count": 15,
   "id": "e8be728e-2633-4811-9dc4-0abe7c303079",
   "metadata": {
    "tags": []
   },
   "outputs": [
    {
     "data": {
      "text/plain": [
       "{'3M9IY_jv7u.json': {'hit_id': '3M9IY',\n",
       "  'user_id': 'jv7u',\n",
       "  'global_start_time': '2024-01-08T03:22:53.949Z',\n",
       "  'session_start_time': '2024-01-08T03:22:53.949Z',\n",
       "  'end_time': '2024-01-08T03:23:08.882Z',\n",
       "  'code': 'D0DM',\n",
       "  'logging_type': 1,\n",
       "  'hit_setting': {'slidesToShow': '5',\n",
       "   'slidesToScroll': '1',\n",
       "   'arrows': 'true',\n",
       "   'dots': 'false',\n",
       "   'infinite': 'true',\n",
       "   'centerMode': 'false',\n",
       "   'draggable': 'false',\n",
       "   'optVisual': 'social',\n",
       "   'optTitle': 'true'},\n",
       "  'finish_status': 1,\n",
       "  'total_mouse_distance': 2958.5531394045083,\n",
       "  'avg_mouse_velocity': 293.33922792455155,\n",
       "  'total_scroll_distance': 559.0909091234207,\n",
       "  'avg_scroll_velocity': 823.7406002551727},\n",
       " '3M9IY_iej2.json': {'hit_id': '3M9IY',\n",
       "  'user_id': 'iej2',\n",
       "  'global_start_time': '2024-01-08T01:01:38.511Z',\n",
       "  'session_start_time': '2024-01-08T01:01:38.511Z',\n",
       "  'end_time': '2024-01-08T01:02:25.803Z',\n",
       "  'code': 'IWZ3',\n",
       "  'logging_type': 1,\n",
       "  'hit_setting': {'slidesToShow': '5',\n",
       "   'slidesToScroll': '1',\n",
       "   'arrows': 'true',\n",
       "   'dots': 'false',\n",
       "   'infinite': 'true',\n",
       "   'centerMode': 'false',\n",
       "   'draggable': 'false',\n",
       "   'optVisual': 'social',\n",
       "   'optTitle': 'true'},\n",
       "  'finish_status': 1,\n",
       "  'total_mouse_distance': 1216.583165973706,\n",
       "  'avg_mouse_velocity': 34.66387996404584,\n",
       "  'total_scroll_distance': 2519.0909091234207,\n",
       "  'avg_scroll_velocity': 1080.6425214359926},\n",
       " '3M9IY_tmod.json': {'hit_id': '3M9IY',\n",
       "  'user_id': 'tmod',\n",
       "  'global_start_time': '2024-01-08T03:16:27.247Z',\n",
       "  'session_start_time': '2024-01-08T03:16:27.247Z',\n",
       "  'end_time': '2024-01-08T03:16:41.663Z',\n",
       "  'code': 'LP4L',\n",
       "  'logging_type': 1,\n",
       "  'hit_setting': {'slidesToShow': '5',\n",
       "   'slidesToScroll': '1',\n",
       "   'arrows': 'true',\n",
       "   'dots': 'false',\n",
       "   'infinite': 'true',\n",
       "   'centerMode': 'false',\n",
       "   'draggable': 'false',\n",
       "   'optVisual': 'social',\n",
       "   'optTitle': 'true'},\n",
       "  'finish_status': 1,\n",
       "  'total_mouse_distance': 2009.7694139682899,\n",
       "  'avg_mouse_velocity': 336.64266153762355,\n",
       "  'total_scroll_distance': 426.36364471912384,\n",
       "  'avg_scroll_velocity': 570.1370616064104},\n",
       " '3M9IY_ehw8.json': {'hit_id': '3M9IY',\n",
       "  'user_id': 'ehw8',\n",
       "  'global_start_time': '2024-01-08T03:23:17.507Z',\n",
       "  'session_start_time': '2024-01-08T03:23:17.507Z',\n",
       "  'end_time': '2024-01-08T03:23:34.165Z',\n",
       "  'code': '6BY8',\n",
       "  'logging_type': 1,\n",
       "  'hit_setting': {'slidesToShow': '5',\n",
       "   'slidesToScroll': '1',\n",
       "   'arrows': 'true',\n",
       "   'dots': 'false',\n",
       "   'infinite': 'true',\n",
       "   'centerMode': 'false',\n",
       "   'draggable': 'false',\n",
       "   'optVisual': 'social',\n",
       "   'optTitle': 'true'},\n",
       "  'finish_status': 1,\n",
       "  'total_mouse_distance': 2000.807671156894,\n",
       "  'avg_mouse_velocity': 179.29442187061065,\n",
       "  'total_scroll_distance': 589.0908786058426,\n",
       "  'avg_scroll_velocity': 897.0254913297497},\n",
       " '3M9IY_dfy7.json': {'hit_id': '3M9IY',\n",
       "  'user_id': 'dfy7',\n",
       "  'global_start_time': '2024-01-08T03:22:29.930Z',\n",
       "  'session_start_time': '2024-01-08T03:22:29.930Z',\n",
       "  'end_time': '2024-01-08T03:22:43.851Z',\n",
       "  'code': 'FSNY',\n",
       "  'logging_type': 1,\n",
       "  'hit_setting': {'slidesToShow': '5',\n",
       "   'slidesToScroll': '1',\n",
       "   'arrows': 'true',\n",
       "   'dots': 'false',\n",
       "   'infinite': 'true',\n",
       "   'centerMode': 'false',\n",
       "   'draggable': 'false',\n",
       "   'optVisual': 'social',\n",
       "   'optTitle': 'true'},\n",
       "  'finish_status': 1,\n",
       "  'total_mouse_distance': 780.1164124036832,\n",
       "  'avg_mouse_velocity': 131.05186548979748,\n",
       "  'total_scroll_distance': 522.7272616624832,\n",
       "  'avg_scroll_velocity': 1016.5938958280352}}"
      ]
     },
     "execution_count": 15,
     "metadata": {},
     "output_type": "execute_result"
    }
   ],
   "source": [
    "sample_snippet"
   ]
  },
  {
   "cell_type": "code",
   "execution_count": 25,
   "id": "be347d3f-7002-4115-99ce-6088cb6d0341",
   "metadata": {},
   "outputs": [
    {
     "name": "stdout",
     "output_type": "stream",
     "text": [
      "Sum Experiment Time (s): 265.30\n",
      "Mean Experiment Time (s): 26.53\n",
      "Median Experiment Time (s): 23.21\n",
      "Experiment Time SD (s): 12.31\n",
      "Sum Mouse Movement Distance (units): 24195.87\n",
      "Mean Mouse Movement Distance (units): 2419.59\n",
      "Median Mouse Movement Distance (units): 2002.20\n",
      "Mouse Movement Distance SD (units): 1702.58\n",
      "Sum Mouse Speed (units/s): 1848.02\n",
      "Mean Mouse Speed (units/s): 184.80\n",
      "Median Mouse Speed (units/s): 176.92\n",
      "Mouse Speed SD (units/s): 93.57\n",
      "All Scroll Movment Event: 854.00\n",
      "Mean Scroll Movment Event: 85.40\n",
      "Median Scroll Movment Event: 62.00\n",
      "Mouse Scroll Movment Event: 63.64\n",
      "All Mouse Movment Event: 48.00\n",
      "Mean Mouse Movment Event: 4.80\n",
      "Median Mouse Movment Event: 4.00\n",
      "Mouse Mouse Movment Event: 2.15\n",
      "All Click Event: 105.00\n",
      "Mean Click Event: 10.50\n",
      "Median Click Event: 9.50\n",
      "Mouse Click Event: 4.01\n"
     ]
    }
   ],
   "source": [
    "import os\n",
    "import json\n",
    "import pandas as pd\n",
    "import numpy as np\n",
    "\n",
    "# Function to read data from a single JSON file and return it as a dictionary\n",
    "def read_json_data(file_path):\n",
    "    with open(file_path, 'r') as file:\n",
    "        json_data = json.load(file)\n",
    "    return json_data\n",
    "\n",
    "# Function to process all JSON files and add their data into a DataFrame\n",
    "def process_all_json_files_to_df(directory_path):\n",
    "    all_data = []\n",
    "\n",
    "    # Filter out non-JSON files\n",
    "    json_files = [file for file in os.listdir(directory_path) if file.endswith('.json')]\n",
    "\n",
    "    # Process each JSON file\n",
    "    for json_file in json_files:\n",
    "        file_path = os.path.join(directory_path, json_file)\n",
    "        try:\n",
    "            json_data = read_json_data(file_path)\n",
    "\n",
    "            # Extract relevant data and append to the list\n",
    "            mouse_distance, mouse_velocity = mouse_movment_details(file_path)\n",
    "            scroll_distance, scroll_velocity = scroll_movement_details(file_path)\n",
    "            #experiment_duration = json_data['experiment_duration']\n",
    "            global_start_time = np.datetime64(json_data['global_start_time'])\n",
    "            session_start_time = np.datetime64(json_data['session_start_time'])\n",
    "            end_time = np.datetime64(json_data['end_time'])\n",
    "            \n",
    "            event_data = json_data['eventData']\n",
    "\n",
    "            # Filtering only scroll events\n",
    "            scroll_events = [event for event in event_data if event['eventType'] == 'scroll']\n",
    "            mouse_events = [event for event in event_data if event['eventType'] == 'mousemove']\n",
    "            click_events = [event for event in event_data if event['eventType'] == 'click']\n",
    "\n",
    "    \n",
    "\n",
    "            # Calculate experiment and task durations\n",
    "            experiment_duration = (end_time - global_start_time).item().total_seconds()\n",
    "            \n",
    "\n",
    "            all_data.append({\n",
    "                'file': json_file,\n",
    "                'experiment_duration': experiment_duration,\n",
    "                'mouse_total_distance': mouse_distance,\n",
    "                'mouse_average_velocity': mouse_velocity,\n",
    "                'scroll_total_distance': scroll_distance,\n",
    "                'scroll_average_velocity': scroll_velocity,\n",
    "                'total_scroll_movment': len(scroll_events),\n",
    "                'total_mouse_movment': len(mouse_events),\n",
    "                'total_click': len(click_events)\n",
    "            })\n",
    "        except Exception as e:\n",
    "            print(f\"Error processing {json_file}: {e}\")\n",
    "\n",
    "    # Convert the list of dictionaries to a DataFrame\n",
    "    return pd.DataFrame(all_data)\n",
    "\n",
    "# Process the files and get the DataFrame\n",
    "directory_path = './extracted_logs'\n",
    "df = process_all_json_files_to_df(directory_path)\n",
    "\n",
    "# Calculate various statistics\n",
    "stats = {\n",
    "    'Sum Experiment Time (s)': df['experiment_duration'].sum(),\n",
    "    'Mean Experiment Time (s)': df['experiment_duration'].mean(),\n",
    "    'Median Experiment Time (s)': df['experiment_duration'].median(),\n",
    "    'Experiment Time SD (s)': df['experiment_duration'].std(),\n",
    "    \n",
    "    'Sum Mouse Movement Distance (units)': df['mouse_total_distance'].sum(),\n",
    "    'Mean Mouse Movement Distance (units)': df['mouse_total_distance'].mean(),\n",
    "    'Median Mouse Movement Distance (units)': df['mouse_total_distance'].median(),\n",
    "    'Mouse Movement Distance SD (units)': df['mouse_total_distance'].std(),\n",
    "    \n",
    "    'Sum Mouse Speed (units/s)': df['mouse_average_velocity'].sum(),    \n",
    "    'Mean Mouse Speed (units/s)': df['mouse_average_velocity'].mean(),\n",
    "    'Median Mouse Speed (units/s)': df['mouse_average_velocity'].median(),\n",
    "    'Mouse Speed SD (units/s)': df['mouse_average_velocity'].std(),\n",
    "    \n",
    "    'All Scroll Movment Event': df['total_scroll_movment'].sum(),\n",
    "    'Mean Scroll Movment Event': df['total_scroll_movment'].mean(),\n",
    "    'Median Scroll Movment Event': df['total_scroll_movment'].median(),\n",
    "    'Mouse Scroll Movment Event': df['total_scroll_movment'].std(),\n",
    "    \n",
    "    'All Mouse Movment Event': df['total_mouse_movment'].sum(),\n",
    "    'Mean Mouse Movment Event': df['total_mouse_movment'].mean(),\n",
    "    'Median Mouse Movment Event': df['total_mouse_movment'].median(),\n",
    "    'Mouse Mouse Movment Event': df['total_mouse_movment'].std(),\n",
    "    \n",
    "    'All Click Event': df['total_click'].sum(),\n",
    "    'Mean Click Event': df['total_click'].mean(),\n",
    "    'Median Click Event': df['total_click'].median(),\n",
    "    'Mouse Click Event': df['total_click'].std()\n",
    "    \n",
    "    \n",
    "    \n",
    "    \n",
    "    # Add similar calculations for scroll data\n",
    "}\n",
    "\n",
    "# Print the statistics\n",
    "for key, value in stats.items():\n",
    "    print(f\"{key}: {value:.2f}\")"
   ]
  },
  {
   "cell_type": "code",
   "execution_count": 23,
   "id": "b2de6bb1-e4cf-41e7-83e4-7b80887ec01d",
   "metadata": {
    "tags": []
   },
   "outputs": [
    {
     "data": {
      "image/png": "[encoded data removed]",
      "text/plain": [
       "<Figure size 720x432 with 1 Axes>"
      ]
     },
     "metadata": {},
     "output_type": "display_data"
    },
    {
     "data": {
      "image/png": "[encoded data removed]",
      "text/plain": [
       "<Figure size 720x432 with 1 Axes>"
      ]
     },
     "metadata": {},
     "output_type": "display_data"
    },
    {
     "data": {
      "image/png": "[encoded data removed]",
      "text/plain": [
       "<Figure size 720x432 with 1 Axes>"
      ]
     },
     "metadata": {},
     "output_type": "display_data"
    }
   ],
   "source": [
    "import seaborn as sns\n",
    "import matplotlib.pyplot as plt\n",
    "\n",
    "# Set the aesthetic style of the plots\n",
    "sns.set_style(\"whitegrid\")\n",
    "\n",
    "# Box plot for experiment duration\n",
    "plt.figure(figsize=(10, 6))\n",
    "sns.boxplot(y=df['experiment_duration'])\n",
    "plt.title('Box Plot of Experiment Duration')\n",
    "plt.ylabel('Duration (seconds)')\n",
    "plt.show()\n",
    "\n",
    "# Box plot for mouse speed\n",
    "plt.figure(figsize=(10, 6))\n",
    "sns.boxplot(y=df['mouse_average_velocity'])\n",
    "plt.title('Box Plot of Mouse Speed')\n",
    "plt.ylabel('Average Speed (units/s)')\n",
    "plt.show()\n",
    "\n",
    "# Box plot for mouse distance\n",
    "plt.figure(figsize=(10, 6))\n",
    "sns.boxplot(y=df['mouse_total_distance'])\n",
    "plt.title('Box Plot of Mouse Total Distance')\n",
    "plt.ylabel('Total Distance (units)')\n",
    "plt.show()"
   ]
  },
  {
   "cell_type": "code",
   "execution_count": 24,
   "id": "4e56139a-cb36-41dd-a16c-3383a6dd2cec",
   "metadata": {
    "tags": []
   },
   "outputs": [
    {
     "data": {
      "image/png": "[encoded data removed]",
      "text/plain": [
       "<Figure size 900x900 with 30 Axes>"
      ]
     },
     "metadata": {},
     "output_type": "display_data"
    }
   ],
   "source": [
    "import seaborn as sns\n",
    "import matplotlib.pyplot as plt\n",
    "\n",
    "# Set the aesthetic style of the plots\n",
    "sns.set(style=\"ticks\", color_codes=True)\n",
    "\n",
    "# Select columns for the pairplot\n",
    "columns_to_plot = ['experiment_duration', 'mouse_average_velocity', 'mouse_total_distance', 'scroll_average_velocity', 'scroll_total_distance']\n",
    "\n",
    "# Create a pairplot\n",
    "sns.pairplot(df[columns_to_plot])\n",
    "plt.suptitle('Multidimensional Analysis of User Interactions', y=1.02)\n",
    "plt.show()"
   ]
  },
  {
   "cell_type": "code",
   "execution_count": null,
   "id": "0e334d74-aab7-4ac1-ad69-36c9de82bd0d",
   "metadata": {},
   "outputs": [],
   "source": []
  }
 ],
 "metadata": {
  "kernelspec": {
   "display_name": "Python 3 (ipykernel)",
   "language": "python",
   "name": "python3"
  },
  "language_info": {
   "codemirror_mode": {
    "name": "ipython",
    "version": 3
   },
   "file_extension": ".py",
   "mimetype": "text/x-python",
   "name": "python",
   "nbconvert_exporter": "python",
   "pygments_lexer": "ipython3",
   "version": "3.9.7"
  }
 },
 "nbformat": 4,
 "nbformat_minor": 5
}
